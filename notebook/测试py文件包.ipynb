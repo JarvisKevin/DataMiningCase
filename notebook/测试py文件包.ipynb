{
 "cells": [
  {
   "cell_type": "code",
   "execution_count": 1,
   "metadata": {},
   "outputs": [],
   "source": [
    "import pandas as pd"
   ]
  },
  {
   "cell_type": "code",
   "execution_count": 2,
   "metadata": {},
   "outputs": [],
   "source": [
    "from py_bar import skdata, plt_data"
   ]
  },
  {
   "cell_type": "code",
   "execution_count": 3,
   "metadata": {},
   "outputs": [],
   "source": [
    "train_data = pd.read_csv('../data/train.csv')\n",
    "test_data = pd.read_csv('../data/test.csv')  # 这里读取错误，之前是读取的train"
   ]
  },
  {
   "cell_type": "code",
   "execution_count": 4,
   "metadata": {},
   "outputs": [
    {
     "name": "stdout",
     "output_type": "stream",
     "text": [
      "=============开始处理数据集===============\n",
      "未处理训练集数据大小： (100000, 300)\n",
      "未处理预测集数据大小： (100000, 300)\n",
      "数据集里没有相应字段\n",
      "处理后训练集数据大小： (100000, 300)\n",
      "处理后预测集数据大小： (100000, 300)\n",
      "=============数据集处理完成===============\n",
      "==============开始切分数据=================\n",
      "使用全部特征\n",
      "训练集正负样本情况：\n",
      "0    98145\n",
      "1     1855\n",
      "Name: label, dtype: int64\n",
      "预测集正负样本情况：\n",
      "0    98145\n",
      "1     1855\n",
      "Name: label, dtype: int64\n",
      "==============数据切分完成=================\n"
     ]
    }
   ],
   "source": [
    "df_train, df_pre, X, y, X_test_v1, y_test_v1 = skdata.preprocessing(train_data, test_data)"
   ]
  },
  {
   "cell_type": "code",
   "execution_count": 5,
   "metadata": {},
   "outputs": [
    {
     "name": "stdout",
     "output_type": "stream",
     "text": [
      "vali auc = 0.9793\n",
      "test auc = 0.9912\n",
      "vali_metric:  0.421 0.591\n",
      "test_metric:  0.606 0.802\n",
      "================开始输出名单==================\n",
      "================输出名单名单==================\n",
      "                                                  id        概率    高精确\n",
      "0  cb3dff566c2e804ee5842a50d1641f934e2a3b5f630c4d...  0.000526  False\n",
      "1  d59c75a60aaf0ad51d05624de6a78c32ab87e07a0847bc...  0.000889  False\n",
      "2  e73af2a7c4d2991c898010c2c8fd00b3d81d3f8f6a7fca...  0.004408  False\n",
      "3  aebb59c3288fea434e60c94d732abff99ac8e1f2c503fa...  0.006726  False\n",
      "4  5d2d91c0023379976e97fbce2f30217fff35690c681305...  0.000456  False\n"
     ]
    }
   ],
   "source": [
    "clf = skdata.train_2_cross(df_pre, X,y, X_test_v1,y_test_v1)"
   ]
  },
  {
   "cell_type": "code",
   "execution_count": 6,
   "metadata": {},
   "outputs": [
    {
     "data": {
      "image/png": "[encoded data removed]",
      "text/plain": [
       "<Figure size 432x288 with 1 Axes>"
      ]
     },
     "metadata": {
      "needs_background": "light"
     },
     "output_type": "display_data"
    },
    {
     "name": "stdout",
     "output_type": "stream",
     "text": [
      "Accuracy: 0.99\n"
     ]
    }
   ],
   "source": [
    "plt_data.auc_plot(X, y, clf)"
   ]
  },
  {
   "cell_type": "code",
   "execution_count": null,
   "metadata": {},
   "outputs": [],
   "source": []
  }
 ],
 "metadata": {
  "kernelspec": {
   "display_name": "Python 3",
   "language": "python",
   "name": "python3"
  },
  "language_info": {
   "codemirror_mode": {
    "name": "ipython",
    "version": 3
   },
   "file_extension": ".py",
   "mimetype": "text/x-python",
   "name": "python",
   "nbconvert_exporter": "python",
   "pygments_lexer": "ipython3",
   "version": "3.7.3"
  }
 },
 "nbformat": 4,
 "nbformat_minor": 2
}
